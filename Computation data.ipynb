{
 "cells": [
  {
   "cell_type": "code",
   "execution_count": 1,
   "metadata": {
    "collapsed": true
   },
   "outputs": [],
   "source": [
    "import pandas as test2\n",
    "import numpy as np\n",
    "import matplotlib.pyplot as plt\n",
    "%matplotlib inline\n",
    "from scipy import stats"
   ]
  },
  {
   "cell_type": "code",
   "execution_count": 2,
   "metadata": {
    "collapsed": false
   },
   "outputs": [],
   "source": [
    "#importing the data in two different formats\n",
    "data_excel=pd.ExcelFile('Computational Data Without Identifiers.xlsx')\n",
    "data=pd.read_csv('Computational Data Without Identifiers.csv')"
   ]
  },
  {
   "cell_type": "code",
   "execution_count": 3,
   "metadata": {
    "collapsed": false
   },
   "outputs": [],
   "source": [
    "Comp_Teaching_Exp_YN = [] #Creates an empty list to be used with the first question\n",
    "for row in data.values[:,1]:\n",
    "    Comp_Teaching_Exp_YN.append(row) #Fills the list"
   ]
  },
  {
   "cell_type": "code",
   "execution_count": 4,
   "metadata": {
    "collapsed": false
   },
   "outputs": [
    {
     "name": "stdout",
     "output_type": "stream",
     "text": [
      "751\n"
     ]
    }
   ],
   "source": [
    "Comp_Teaching_Exp_Y = Comp_Teaching_Exp_YN.count(\"Yes\")\n",
    "print(Comp_Teaching_Exp_Y)"
   ]
  },
  {
   "cell_type": "code",
   "execution_count": 5,
   "metadata": {
    "collapsed": false
   },
   "outputs": [
    {
     "name": "stdout",
     "output_type": "stream",
     "text": [
      "['Valid Skip', 'Valid Skip', 'Valid Skip', 'Valid Skip', 'Valid Skip', 'Unchecked', 'Valid Skip', 'Valid Skip', 'Unchecked', 'Valid Skip', 'Unchecked', 'Unchecked', 'Valid Skip', 'Unchecked', 'Valid Skip', 'Unchecked', 'Valid Skip', 'Unchecked', 'Valid Skip', 'Valid Skip', 'Valid Skip', 'Unchecked', 'Valid Skip', 'Valid Skip', 'Valid Skip', 'Unchecked', 'Unchecked', 'Unchecked', 'Unchecked', 'Unchecked', 'Unchecked', 'Valid Skip', 'Valid Skip', 'Valid Skip', nan, 'Unchecked', 'Unchecked', 'Valid Skip', 'Unchecked', 'Unchecked', 'Unchecked', 'Unchecked', 'Unchecked', 'Unchecked', 'Unchecked', 'Unchecked', 'Unchecked', 'Valid Skip', 'Valid Skip', 'Valid Skip', 'Valid Skip', 'Valid Skip', 'Unchecked', 'Unchecked', 'Unchecked', 'Valid Skip', 'Unchecked', 'Unchecked', 'Unchecked', 'Unchecked', 'Valid Skip', 'Unchecked', 'Valid Skip', 'Unchecked', 'Unchecked', 'Unchecked', 'Valid Skip', 'Unchecked', 'Unchecked', 'Valid Skip', 'Unchecked', 'Unchecked', 'Unchecked', 'Checked', 'Unchecked', 'Unchecked', 'Valid Skip', 'Unchecked', 'Unchecked', 'Unchecked', 'Unchecked', 'Unchecked', 'Valid Skip', 'Valid Skip', nan, 'Unchecked', 'Unchecked', 'Unchecked', 'Valid Skip', 'Valid Skip', 'Valid Skip', 'Valid Skip', 'Unchecked', 'Valid Skip', 'Unchecked', nan, 'Unchecked', 'Valid Skip', 'Valid Skip', 'Valid Skip', 'Valid Skip', 'Valid Skip', 'Unchecked', 'Valid Skip', 'Valid Skip', 'Unchecked', 'Unchecked', 'Unchecked', 'Unchecked', 'Unchecked', 'Valid Skip', 'Valid Skip', 'Valid Skip', 'Unchecked', 'Unchecked', 'Unchecked', 'Valid Skip', 'Unchecked', 'Valid Skip', nan, 'Valid Skip', 'Valid Skip', 'Unchecked', 'Valid Skip', 'Unchecked', 'Valid Skip', 'Checked', 'Unchecked', 'Unchecked', 'Unchecked', 'Valid Skip', 'Unchecked', 'Valid Skip', 'Unchecked', 'Unchecked', 'Valid Skip', 'Unchecked', 'Unchecked', 'Unchecked', 'Unchecked', 'Unchecked', 'Unchecked', 'Valid Skip', 'Unchecked', 'Valid Skip', 'Valid Skip', 'Valid Skip', 'Unchecked', 'Unchecked', 'Valid Skip', 'Unchecked', 'Valid Skip', 'Unchecked', 'Valid Skip', 'Unchecked', 'Unchecked', 'Unchecked', 'Unchecked', 'Unchecked', 'Unchecked', 'Unchecked', 'Unchecked', 'Checked', nan, 'Unchecked', 'Valid Skip', nan, 'Unchecked', 'Valid Skip', 'Unchecked', 'Valid Skip', 'Valid Skip', 'Unchecked', 'Valid Skip', 'Unchecked', 'Unchecked', 'Valid Skip', 'Valid Skip', 'Unchecked', 'Unchecked', 'Valid Skip', 'Valid Skip', 'Valid Skip', 'Unchecked', 'Unchecked', 'Valid Skip', 'Unchecked', 'Valid Skip', 'Valid Skip', 'Valid Skip', 'Valid Skip', 'Valid Skip', 'Checked', 'Checked', 'Unchecked', 'Unchecked', 'Unchecked', 'Checked', 'Valid Skip', 'Unchecked', 'Valid Skip', 'Valid Skip', 'Unchecked', 'Unchecked', 'Valid Skip', 'Valid Skip', 'Valid Skip', 'Valid Skip', 'Unchecked', 'Valid Skip', 'Valid Skip', 'Valid Skip', 'Valid Skip', 'Unchecked', 'Valid Skip', 'Valid Skip', 'Checked', 'Unchecked', 'Unchecked', 'Unchecked', 'Valid Skip', 'Valid Skip', 'Valid Skip', 'Valid Skip', 'Unchecked', 'Valid Skip', 'Unchecked', 'Unchecked', 'Unchecked', 'Valid Skip', 'Unchecked', 'Valid Skip', 'Unchecked', 'Unchecked', 'Valid Skip', 'Unchecked', 'Unchecked', 'Valid Skip', 'Valid Skip', 'Unchecked', 'Valid Skip', 'Valid Skip', 'Valid Skip', 'Unchecked', 'Valid Skip', 'Unchecked', 'Valid Skip', 'Unchecked', 'Unchecked', 'Unchecked', 'Unchecked', 'Unchecked', 'Valid Skip', 'Unchecked', 'Valid Skip', 'Unchecked', 'Valid Skip', 'Valid Skip', 'Unchecked', 'Checked', 'Unchecked', 'Unchecked', 'Checked', 'Unchecked', 'Checked', 'Valid Skip', 'Valid Skip', 'Valid Skip', 'Unchecked', 'Valid Skip', 'Unchecked', 'Valid Skip', 'Valid Skip', 'Unchecked', 'Unchecked', 'Unchecked', 'Unchecked', 'Valid Skip', 'Valid Skip', 'Checked', nan, 'Valid Skip', 'Unchecked', 'Unchecked', 'Valid Skip', 'Valid Skip', 'Unchecked', 'Unchecked', 'Unchecked', 'Unchecked', 'Valid Skip', 'Valid Skip', 'Valid Skip', 'Checked', 'Checked', 'Checked', 'Valid Skip', 'Checked', 'Checked', 'Checked', 'Checked', 'Valid Skip', 'Valid Skip', 'Valid Skip', 'Unchecked', 'Valid Skip', 'Unchecked', 'Unchecked', 'Valid Skip', 'Checked', 'Valid Skip', 'Valid Skip', 'Unchecked', 'Unchecked', 'Unchecked', 'Valid Skip', 'Valid Skip', 'Valid Skip', 'Unchecked', 'Unchecked', 'Valid Skip', 'Unchecked', 'Unchecked', 'Unchecked', 'Unchecked', 'Valid Skip', 'Unchecked', 'Valid Skip', 'Unchecked', 'Unchecked', 'Unchecked', 'Unchecked', 'Valid Skip', 'Unchecked', 'Unchecked', 'Unchecked', 'Unchecked', 'Valid Skip', 'Unchecked', 'Valid Skip', 'Valid Skip', 'Unchecked', 'Unchecked', 'Unchecked', 'Unchecked', 'Unchecked', 'Valid Skip', 'Unchecked', 'Unchecked', 'Unchecked', 'Unchecked', 'Valid Skip', 'Valid Skip', 'Unchecked', 'Valid Skip', 'Unchecked', nan, 'Valid Skip', 'Valid Skip', 'Valid Skip', 'Valid Skip', 'Unchecked', 'Unchecked', 'Unchecked', 'Valid Skip', 'Unchecked', 'Valid Skip', 'Valid Skip', 'Unchecked', 'Valid Skip', 'Unchecked', 'Valid Skip', 'Valid Skip', 'Valid Skip', 'Valid Skip', 'Valid Skip', 'Unchecked', 'Valid Skip', 'Unchecked', 'Checked', 'Unchecked', 'Unchecked', 'Valid Skip', 'Valid Skip', 'Unchecked', 'Unchecked', 'Unchecked', 'Unchecked', 'Valid Skip', 'Valid Skip', nan, nan, nan, 'Valid Skip', 'Valid Skip', 'Valid Skip', 'Checked', 'Valid Skip', 'Checked', 'Unchecked', 'Unchecked', 'Valid Skip', 'Unchecked', 'Unchecked', 'Valid Skip', 'Unchecked', 'Unchecked', 'Unchecked', 'Unchecked', 'Unchecked', 'Unchecked', 'Unchecked', 'Valid Skip', nan, 'Unchecked', 'Unchecked', 'Unchecked', 'Unchecked', 'Unchecked', 'Unchecked', 'Unchecked', 'Valid Skip', 'Unchecked', 'Checked', 'Unchecked', 'Unchecked', 'Valid Skip', 'Unchecked', 'Valid Skip', 'Valid Skip', 'Checked', 'Unchecked', 'Unchecked', 'Valid Skip', 'Unchecked', 'Unchecked', 'Checked', 'Unchecked', 'Valid Skip', 'Unchecked', 'Valid Skip', 'Valid Skip', 'Unchecked', nan, 'Valid Skip', 'Valid Skip', 'Valid Skip', 'Valid Skip', nan, 'Valid Skip', nan, 'Unchecked', 'Valid Skip', 'Valid Skip', 'Valid Skip', 'Valid Skip', 'Unchecked', 'Valid Skip', 'Valid Skip', 'Unchecked', 'Unchecked', nan, 'Unchecked', 'Valid Skip', 'Unchecked', 'Valid Skip', 'Unchecked', 'Unchecked', 'Unchecked', 'Unchecked', 'Valid Skip', 'Unchecked', 'Checked', 'Unchecked', 'Unchecked', 'Unchecked', 'Unchecked', 'Unchecked', 'Unchecked', 'Unchecked', 'Valid Skip', 'Unchecked', 'Unchecked', nan, 'Valid Skip', 'Valid Skip', 'Valid Skip', 'Checked', 'Valid Skip', 'Unchecked', 'Unchecked', 'Unchecked', 'Checked', 'Valid Skip', 'Valid Skip', 'Unchecked', 'Unchecked', 'Unchecked', 'Valid Skip', 'Unchecked', 'Unchecked', 'Unchecked', 'Unchecked', 'Unchecked', 'Unchecked', 'Unchecked', 'Unchecked', 'Unchecked', 'Unchecked', 'Valid Skip', 'Unchecked', 'Unchecked', 'Unchecked', 'Valid Skip', 'Unchecked', 'Valid Skip', 'Valid Skip', 'Unchecked', 'Unchecked', 'Unchecked', 'Unchecked', 'Unchecked', 'Unchecked', 'Valid Skip', 'Unchecked', 'Unchecked', 'Unchecked', 'Checked', 'Valid Skip', 'Valid Skip', 'Valid Skip', 'Valid Skip', 'Valid Skip', 'Valid Skip', 'Checked', 'Unchecked', 'Valid Skip', 'Valid Skip', 'Valid Skip', 'Valid Skip', 'Valid Skip', 'Valid Skip', 'Unchecked', 'Unchecked', 'Unchecked', 'Unchecked', 'Unchecked', 'Unchecked', 'Checked', 'Unchecked', 'Unchecked', 'Unchecked', 'Unchecked', 'Unchecked', 'Unchecked', 'Unchecked', 'Valid Skip', 'Valid Skip', 'Unchecked', 'Unchecked', 'Valid Skip', 'Unchecked', 'Valid Skip', 'Valid Skip', 'Unchecked', 'Valid Skip', 'Unchecked', 'Unchecked', 'Unchecked', 'Valid Skip', nan, 'Unchecked', 'Unchecked', 'Unchecked', 'Unchecked', 'Unchecked', 'Valid Skip', 'Unchecked', 'Valid Skip', 'Valid Skip', 'Unchecked', 'Unchecked', 'Unchecked', 'Unchecked', 'Unchecked', 'Unchecked', 'Valid Skip', 'Unchecked', 'Valid Skip', 'Unchecked', 'Unchecked', 'Unchecked', 'Unchecked', 'Unchecked', 'Checked', 'Valid Skip', 'Unchecked', 'Unchecked', 'Unchecked', 'Unchecked', 'Unchecked', 'Unchecked', 'Valid Skip', 'Unchecked', 'Unchecked', 'Unchecked', 'Valid Skip', 'Valid Skip', 'Valid Skip', 'Unchecked', 'Unchecked', 'Valid Skip', 'Valid Skip', 'Valid Skip', 'Valid Skip', 'Unchecked', 'Unchecked', 'Unchecked', 'Unchecked', 'Unchecked', 'Unchecked', 'Unchecked', 'Valid Skip', 'Valid Skip', 'Valid Skip', 'Unchecked', 'Unchecked', 'Unchecked', 'Valid Skip', 'Unchecked', 'Unchecked', 'Valid Skip', 'Valid Skip', 'Valid Skip', nan, 'Unchecked', 'Valid Skip', 'Unchecked', 'Unchecked', 'Unchecked', 'Unchecked', 'Valid Skip', 'Valid Skip', 'Unchecked', 'Valid Skip', 'Valid Skip', 'Valid Skip', 'Unchecked', 'Valid Skip', 'Unchecked', 'Unchecked', 'Unchecked', 'Unchecked', 'Unchecked', 'Unchecked', 'Valid Skip', 'Unchecked', 'Checked', 'Checked', 'Unchecked', 'Unchecked', 'Checked', 'Checked', 'Unchecked', 'Unchecked', 'Unchecked', 'Valid Skip', 'Valid Skip', 'Valid Skip', 'Unchecked', 'Valid Skip', 'Valid Skip', 'Valid Skip', 'Valid Skip', 'Unchecked', 'Valid Skip', 'Unchecked', 'Unchecked', 'Unchecked', 'Valid Skip', 'Unchecked', 'Valid Skip', 'Valid Skip', 'Valid Skip', 'Checked', 'Valid Skip', 'Valid Skip', 'Checked', 'Unchecked', 'Unchecked', 'Unchecked', 'Valid Skip', 'Unchecked', 'Unchecked', 'Valid Skip', 'Valid Skip', 'Valid Skip', 'Unchecked', 'Valid Skip', 'Valid Skip', 'Valid Skip', 'Unchecked', 'Unchecked', 'Valid Skip', 'Unchecked', 'Unchecked', 'Unchecked', 'Valid Skip', 'Valid Skip', 'Valid Skip', 'Valid Skip', 'Unchecked', 'Valid Skip', 'Valid Skip', 'Valid Skip', 'Unchecked', 'Unchecked', 'Unchecked', 'Unchecked', 'Unchecked', 'Valid Skip', 'Unchecked', 'Unchecked', 'Valid Skip', 'Valid Skip', 'Valid Skip', 'Unchecked', 'Unchecked', 'Valid Skip', 'Unchecked', 'Valid Skip', 'Unchecked', 'Unchecked', 'Unchecked', 'Unchecked', 'Valid Skip', nan, 'Valid Skip', 'Unchecked', 'Unchecked', 'Unchecked', 'Unchecked', 'Valid Skip', 'Unchecked', 'Unchecked', 'Unchecked', 'Valid Skip', 'Valid Skip', 'Valid Skip', 'Valid Skip', 'Valid Skip', 'Unchecked', 'Unchecked', 'Unchecked', 'Unchecked', 'Valid Skip', 'Valid Skip', 'Unchecked', 'Checked', 'Unchecked', 'Checked', 'Valid Skip', 'Checked', 'Unchecked', 'Checked', 'Unchecked', 'Unchecked', 'Valid Skip', 'Unchecked', 'Unchecked', 'Valid Skip', 'Unchecked', 'Unchecked', 'Unchecked', 'Checked', 'Valid Skip', 'Valid Skip', 'Valid Skip', 'Valid Skip', 'Valid Skip', 'Valid Skip', 'Valid Skip', 'Valid Skip', 'Checked', 'Valid Skip', 'Valid Skip', 'Checked', 'Unchecked', 'Checked', 'Unchecked', 'Valid Skip', 'Valid Skip', 'Valid Skip', 'Unchecked', 'Valid Skip', 'Valid Skip', 'Unchecked', 'Unchecked', 'Unchecked', 'Unchecked', 'Unchecked', 'Valid Skip', nan, 'Unchecked', nan, 'Unchecked', 'Unchecked', 'Valid Skip', 'Valid Skip', 'Valid Skip', 'Valid Skip', 'Valid Skip', 'Unchecked', 'Unchecked', nan, 'Unchecked', 'Unchecked', 'Valid Skip', 'Valid Skip', 'Checked', 'Valid Skip', 'Checked', 'Unchecked', 'Unchecked', 'Checked', 'Unchecked', nan, 'Unchecked', 'Unchecked', 'Checked', 'Valid Skip', nan, 'Unchecked', 'Unchecked', 'Unchecked', 'Valid Skip', 'Valid Skip', nan, 'Unchecked', 'Valid Skip', 'Valid Skip', 'Unchecked', 'Valid Skip', 'Unchecked', 'Unchecked', 'Unchecked', 'Unchecked', 'Unchecked', 'Unchecked', 'Valid Skip', 'Valid Skip', 'Checked', 'Valid Skip', 'Valid Skip', 'Valid Skip', 'Unchecked', 'Unchecked', 'Unchecked', 'Valid Skip', 'Unchecked', 'Unchecked', 'Unchecked', 'Unchecked', 'Unchecked', nan, 'Unchecked', 'Unchecked', 'Valid Skip', 'Valid Skip', 'Valid Skip', 'Unchecked', 'Unchecked', 'Unchecked', 'Unchecked', 'Unchecked', 'Valid Skip', 'Valid Skip', 'Valid Skip', 'Checked', 'Valid Skip', 'Checked', 'Checked', 'Checked', 'Checked', 'Checked', 'Unchecked', 'Unchecked', 'Unchecked', 'Unchecked', 'Checked', 'Valid Skip', 'Unchecked', 'Unchecked', 'Unchecked', 'Unchecked', 'Valid Skip', 'Valid Skip', 'Valid Skip', 'Unchecked', 'Unchecked', 'Valid Skip', 'Unchecked', 'Unchecked', 'Valid Skip', 'Valid Skip', 'Unchecked', 'Unchecked', 'Checked', 'Valid Skip', 'Valid Skip', 'Unchecked', 'Valid Skip', 'Unchecked', 'Valid Skip', 'Valid Skip', 'Unchecked', 'Valid Skip', 'Unchecked', 'Valid Skip', 'Unchecked', 'Unchecked', 'Unchecked', 'Unchecked', 'Unchecked', 'Checked', 'Unchecked', 'Unchecked', 'Valid Skip', 'Unchecked', 'Valid Skip', 'Valid Skip', 'Unchecked', 'Checked', 'Valid Skip', 'Checked', 'Valid Skip', 'Unchecked', 'Valid Skip', 'Unchecked', 'Valid Skip', 'Unchecked', 'Unchecked', 'Unchecked', 'Valid Skip', 'Valid Skip', 'Valid Skip', 'Valid Skip', 'Valid Skip', 'Unchecked', 'Unchecked', 'Unchecked', 'Unchecked', 'Unchecked', 'Unchecked', 'Unchecked', 'Unchecked', 'Valid Skip', 'Unchecked', 'Valid Skip', 'Valid Skip', 'Unchecked', 'Unchecked', 'Unchecked', 'Unchecked', 'Valid Skip', 'Unchecked', 'Unchecked', 'Unchecked', 'Unchecked', 'Unchecked', 'Unchecked', 'Unchecked', 'Unchecked', 'Unchecked', 'Unchecked', 'Unchecked', 'Unchecked', 'Unchecked', 'Valid Skip', 'Unchecked', 'Unchecked', 'Checked', 'Unchecked', 'Unchecked', 'Unchecked', 'Valid Skip', 'Checked', 'Unchecked', 'Valid Skip', 'Valid Skip', 'Unchecked', 'Unchecked', 'Unchecked', 'Unchecked', 'Unchecked', 'Unchecked', 'Unchecked', 'Unchecked', 'Valid Skip', 'Unchecked', 'Unchecked', 'Valid Skip', 'Valid Skip', 'Valid Skip', 'Valid Skip', 'Valid Skip', 'Valid Skip', 'Unchecked', 'Valid Skip', 'Valid Skip', 'Checked', 'Checked', 'Checked', 'Valid Skip', 'Checked', 'Valid Skip', 'Valid Skip', 'Valid Skip', 'Checked', 'Valid Skip', 'Valid Skip', 'Valid Skip', 'Valid Skip', 'Valid Skip', 'Unchecked', 'Unchecked', 'Unchecked', 'Unchecked', 'Unchecked', 'Valid Skip', 'Valid Skip', 'Valid Skip', 'Unchecked', 'Unchecked', 'Valid Skip', 'Unchecked', 'Unchecked', 'Unchecked', 'Valid Skip', 'Valid Skip', 'Unchecked', 'Valid Skip', 'Unchecked', 'Valid Skip', 'Unchecked', 'Valid Skip', 'Unchecked', 'Unchecked', 'Unchecked', 'Valid Skip', 'Valid Skip', 'Unchecked', 'Valid Skip', 'Unchecked', 'Valid Skip', 'Valid Skip', 'Unchecked', 'Valid Skip', 'Unchecked', 'Unchecked', 'Unchecked', 'Unchecked', 'Unchecked', 'Unchecked', 'Unchecked', 'Valid Skip', nan, 'Valid Skip', 'Valid Skip', 'Valid Skip', 'Valid Skip', 'Unchecked', 'Unchecked', 'Unchecked', 'Unchecked', 'Valid Skip', 'Valid Skip', 'Valid Skip', 'Valid Skip', 'Valid Skip', 'Valid Skip', 'Valid Skip', 'Unchecked', 'Unchecked', 'Unchecked', 'Unchecked', 'Valid Skip', 'Valid Skip', 'Valid Skip', 'Valid Skip', 'Valid Skip', 'Checked', 'Unchecked', 'Unchecked', 'Unchecked', 'Checked', 'Unchecked', 'Unchecked', 'Unchecked', 'Unchecked', 'Unchecked', 'Valid Skip', 'Unchecked', 'Unchecked', 'Unchecked', 'Unchecked', 'Unchecked', 'Valid Skip', 'Unchecked', 'Valid Skip', 'Valid Skip', 'Checked', 'Valid Skip', 'Checked', 'Valid Skip', 'Valid Skip', 'Valid Skip', 'Valid Skip', 'Checked', 'Checked', 'Checked', 'Checked', 'Unchecked', 'Unchecked', 'Unchecked', 'Valid Skip', nan, 'Valid Skip', 'Unchecked', 'Unchecked', 'Unchecked', 'Valid Skip', 'Valid Skip', 'Unchecked', 'Valid Skip', 'Unchecked', 'Unchecked', 'Unchecked', 'Unchecked', 'Valid Skip', 'Valid Skip', 'Valid Skip', 'Unchecked', 'Unchecked', 'Valid Skip', 'Valid Skip', 'Unchecked', 'Valid Skip', 'Valid Skip', 'Valid Skip', 'Unchecked', 'Unchecked', 'Unchecked', 'Unchecked', 'Valid Skip', 'Valid Skip', 'Valid Skip', 'Unchecked', 'Valid Skip', 'Valid Skip', 'Valid Skip', 'Valid Skip', 'Checked', 'Unchecked', 'Valid Skip', 'Unchecked', 'Valid Skip', 'Valid Skip', 'Unchecked', 'Valid Skip', 'Unchecked', 'Unchecked', 'Valid Skip', 'Valid Skip', 'Unchecked', 'Valid Skip', 'Valid Skip', 'Unchecked', 'Valid Skip', 'Valid Skip', 'Unchecked', 'Valid Skip', 'Unchecked', 'Valid Skip', 'Valid Skip', 'Valid Skip', 'Valid Skip', 'Valid Skip', 'Unchecked', 'Unchecked', 'Unchecked', 'Valid Skip', 'Unchecked', 'Unchecked', 'Valid Skip', 'Unchecked', 'Unchecked', nan, 'Valid Skip', 'Unchecked', 'Unchecked', 'Unchecked', 'Unchecked', 'Valid Skip', 'Unchecked', 'Valid Skip', 'Valid Skip', 'Unchecked', 'Checked', 'Valid Skip', 'Checked', 'Valid Skip', 'Unchecked', 'Valid Skip', 'Checked', 'Valid Skip', 'Checked', 'Unchecked', 'Unchecked', 'Unchecked', 'Valid Skip', 'Unchecked', 'Valid Skip', 'Unchecked', 'Valid Skip', 'Unchecked', 'Unchecked', 'Valid Skip', 'Unchecked', 'Valid Skip', 'Unchecked', 'Unchecked', 'Valid Skip', 'Unchecked', 'Unchecked', nan, nan, 'Unchecked', 'Unchecked', 'Unchecked', 'Unchecked', 'Valid Skip', 'Unchecked', 'Unchecked', 'Unchecked', 'Valid Skip']\n"
     ]
    }
   ],
   "source": [
    "Deg_Comp_Phy_YN = []\n",
    "for row in data.values[:,2]:\n",
    "    Deg_Comp_Phy_YN.append(row)"
   ]
  },
  {
   "cell_type": "code",
   "execution_count": 12,
   "metadata": {
    "collapsed": false
   },
   "outputs": [
    {
     "name": "stdout",
     "output_type": "stream",
     "text": [
      "82\n",
      "0.06754530477759473\n"
     ]
    }
   ],
   "source": [
    "Deg_Comp_Phy_Y = Deg_Comp_Phy_YN.count(\"Checked\") #The number of respondents who said their institution offers a degree in Computiational Physics\n",
    "print(Deg_Comp_Phy_Y)\n",
    "print(Deg_Comp_Phy_Y/(Deg_Comp_Phy_YN.count(\"Unchecked\")+Deg_Comp_Phy_YN.count(\"Valid Skip\")+Deg_Comp_Phy_Y))"
   ]
  },
  {
   "cell_type": "code",
   "execution_count": 14,
   "metadata": {
    "collapsed": false
   },
   "outputs": [
    {
     "name": "stdout",
     "output_type": "stream",
     "text": [
      "['Valid Skip', 'Valid Skip', 'Valid Skip', 'Valid Skip', 'Valid Skip', 'Unchecked', 'Valid Skip', 'Valid Skip', 'Unchecked', 'Valid Skip', 'Unchecked', 'Unchecked', 'Valid Skip', 'Unchecked', 'Valid Skip', 'Unchecked', 'Valid Skip', 'Unchecked', 'Valid Skip', 'Valid Skip', 'Valid Skip', 'Unchecked', 'Valid Skip', 'Valid Skip', 'Valid Skip', 'Unchecked', 'Unchecked', 'Unchecked', 'Unchecked', 'Unchecked', 'Checked', 'Valid Skip', 'Valid Skip', 'Valid Skip', nan, 'Unchecked', 'Unchecked', 'Valid Skip', 'Unchecked', 'Unchecked', 'Unchecked', 'Unchecked', 'Unchecked', 'Unchecked', 'Unchecked', 'Unchecked', 'Unchecked', 'Valid Skip', 'Valid Skip', 'Valid Skip', 'Valid Skip', 'Valid Skip', 'Unchecked', 'Unchecked', 'Unchecked', 'Valid Skip', 'Unchecked', 'Unchecked', 'Unchecked', 'Unchecked', 'Valid Skip', 'Unchecked', 'Valid Skip', 'Unchecked', 'Unchecked', 'Unchecked', 'Valid Skip', 'Unchecked', 'Unchecked', 'Valid Skip', 'Unchecked', 'Unchecked', 'Unchecked', 'Unchecked', 'Unchecked', 'Unchecked', 'Valid Skip', 'Unchecked', 'Unchecked', 'Unchecked', 'Unchecked', 'Unchecked', 'Valid Skip', 'Valid Skip', nan, 'Unchecked', 'Unchecked', 'Unchecked', 'Valid Skip', 'Valid Skip', 'Valid Skip', 'Valid Skip', 'Unchecked', 'Valid Skip', 'Unchecked', nan, 'Unchecked', 'Valid Skip', 'Valid Skip', 'Valid Skip', 'Valid Skip', 'Valid Skip', 'Unchecked', 'Valid Skip', 'Valid Skip', 'Unchecked', 'Unchecked', 'Checked', 'Unchecked', 'Unchecked', 'Valid Skip', 'Valid Skip', 'Valid Skip', 'Unchecked', 'Unchecked', 'Unchecked', 'Valid Skip', 'Unchecked', 'Valid Skip', nan, 'Valid Skip', 'Valid Skip', 'Unchecked', 'Valid Skip', 'Unchecked', 'Valid Skip', 'Unchecked', 'Unchecked', 'Unchecked', 'Unchecked', 'Valid Skip', 'Unchecked', 'Valid Skip', 'Unchecked', 'Unchecked', 'Valid Skip', 'Unchecked', 'Unchecked', 'Unchecked', 'Unchecked', 'Unchecked', 'Unchecked', 'Valid Skip', 'Unchecked', 'Valid Skip', 'Valid Skip', 'Valid Skip', 'Unchecked', 'Unchecked', 'Valid Skip', 'Unchecked', 'Valid Skip', 'Unchecked', 'Valid Skip', 'Unchecked', 'Unchecked', 'Unchecked', 'Unchecked', 'Unchecked', 'Unchecked', 'Unchecked', 'Checked', 'Unchecked', nan, 'Unchecked', 'Valid Skip', nan, 'Unchecked', 'Valid Skip', 'Unchecked', 'Valid Skip', 'Valid Skip', 'Unchecked', 'Valid Skip', 'Unchecked', 'Unchecked', 'Valid Skip', 'Valid Skip', 'Unchecked', 'Unchecked', 'Valid Skip', 'Valid Skip', 'Valid Skip', 'Unchecked', 'Unchecked', 'Valid Skip', 'Unchecked', 'Valid Skip', 'Valid Skip', 'Valid Skip', 'Valid Skip', 'Valid Skip', 'Unchecked', 'Unchecked', 'Unchecked', 'Unchecked', 'Unchecked', 'Unchecked', 'Valid Skip', 'Unchecked', 'Valid Skip', 'Valid Skip', 'Unchecked', 'Unchecked', 'Valid Skip', 'Valid Skip', 'Valid Skip', 'Valid Skip', 'Unchecked', 'Valid Skip', 'Valid Skip', 'Valid Skip', 'Valid Skip', 'Unchecked', 'Valid Skip', 'Valid Skip', 'Checked', 'Unchecked', 'Unchecked', 'Unchecked', 'Valid Skip', 'Valid Skip', 'Valid Skip', 'Valid Skip', 'Unchecked', 'Valid Skip', 'Unchecked', 'Unchecked', 'Unchecked', 'Valid Skip', 'Unchecked', 'Valid Skip', 'Unchecked', 'Unchecked', 'Valid Skip', 'Unchecked', 'Unchecked', 'Valid Skip', 'Valid Skip', 'Unchecked', 'Valid Skip', 'Valid Skip', 'Valid Skip', 'Unchecked', 'Valid Skip', 'Unchecked', 'Valid Skip', 'Unchecked', 'Unchecked', 'Unchecked', 'Unchecked', 'Unchecked', 'Valid Skip', 'Unchecked', 'Valid Skip', 'Unchecked', 'Valid Skip', 'Valid Skip', 'Unchecked', 'Unchecked', 'Unchecked', 'Unchecked', 'Unchecked', 'Unchecked', 'Unchecked', 'Valid Skip', 'Valid Skip', 'Valid Skip', 'Unchecked', 'Valid Skip', 'Unchecked', 'Valid Skip', 'Valid Skip', 'Unchecked', 'Unchecked', 'Unchecked', 'Unchecked', 'Valid Skip', 'Valid Skip', 'Unchecked', nan, 'Valid Skip', 'Unchecked', 'Unchecked', 'Valid Skip', 'Valid Skip', 'Unchecked', 'Unchecked', 'Unchecked', 'Unchecked', 'Valid Skip', 'Valid Skip', 'Valid Skip', 'Unchecked', 'Unchecked', 'Unchecked', 'Valid Skip', 'Unchecked', 'Unchecked', 'Unchecked', 'Checked', 'Valid Skip', 'Valid Skip', 'Valid Skip', 'Unchecked', 'Valid Skip', 'Unchecked', 'Unchecked', 'Valid Skip', 'Unchecked', 'Valid Skip', 'Valid Skip', 'Unchecked', 'Unchecked', 'Unchecked', 'Valid Skip', 'Valid Skip', 'Valid Skip', 'Unchecked', 'Unchecked', 'Valid Skip', 'Unchecked', 'Unchecked', 'Unchecked', 'Unchecked', 'Valid Skip', 'Unchecked', 'Valid Skip', 'Unchecked', 'Unchecked', 'Unchecked', 'Unchecked', 'Valid Skip', 'Unchecked', 'Unchecked', 'Unchecked', 'Unchecked', 'Valid Skip', 'Unchecked', 'Valid Skip', 'Valid Skip', 'Unchecked', 'Unchecked', 'Unchecked', 'Unchecked', 'Unchecked', 'Valid Skip', 'Unchecked', 'Unchecked', 'Unchecked', 'Unchecked', 'Valid Skip', 'Valid Skip', 'Unchecked', 'Valid Skip', 'Checked', nan, 'Valid Skip', 'Valid Skip', 'Valid Skip', 'Valid Skip', 'Unchecked', 'Unchecked', 'Unchecked', 'Valid Skip', 'Unchecked', 'Valid Skip', 'Valid Skip', 'Checked', 'Valid Skip', 'Unchecked', 'Valid Skip', 'Valid Skip', 'Valid Skip', 'Valid Skip', 'Valid Skip', 'Unchecked', 'Valid Skip', 'Checked', 'Unchecked', 'Unchecked', 'Unchecked', 'Valid Skip', 'Valid Skip', 'Unchecked', 'Unchecked', 'Unchecked', 'Unchecked', 'Valid Skip', 'Valid Skip', nan, nan, nan, 'Valid Skip', 'Valid Skip', 'Valid Skip', 'Unchecked', 'Valid Skip', 'Unchecked', 'Unchecked', 'Unchecked', 'Valid Skip', 'Unchecked', 'Unchecked', 'Valid Skip', 'Unchecked', 'Unchecked', 'Unchecked', 'Checked', 'Unchecked', 'Unchecked', 'Unchecked', 'Valid Skip', nan, 'Unchecked', 'Unchecked', 'Unchecked', 'Unchecked', 'Unchecked', 'Unchecked', 'Unchecked', 'Valid Skip', 'Unchecked', 'Unchecked', 'Unchecked', 'Unchecked', 'Valid Skip', 'Unchecked', 'Valid Skip', 'Valid Skip', 'Unchecked', 'Unchecked', 'Unchecked', 'Valid Skip', 'Unchecked', 'Unchecked', 'Unchecked', 'Unchecked', 'Valid Skip', 'Unchecked', 'Valid Skip', 'Valid Skip', 'Unchecked', nan, 'Valid Skip', 'Valid Skip', 'Valid Skip', 'Valid Skip', nan, 'Valid Skip', nan, 'Unchecked', 'Valid Skip', 'Valid Skip', 'Valid Skip', 'Valid Skip', 'Unchecked', 'Valid Skip', 'Valid Skip', 'Unchecked', 'Unchecked', nan, 'Unchecked', 'Valid Skip', 'Unchecked', 'Valid Skip', 'Unchecked', 'Unchecked', 'Unchecked', 'Unchecked', 'Valid Skip', 'Unchecked', 'Unchecked', 'Unchecked', 'Unchecked', 'Unchecked', 'Unchecked', 'Unchecked', 'Unchecked', 'Unchecked', 'Valid Skip', 'Unchecked', 'Unchecked', nan, 'Valid Skip', 'Valid Skip', 'Valid Skip', 'Unchecked', 'Valid Skip', 'Unchecked', 'Unchecked', 'Unchecked', 'Unchecked', 'Valid Skip', 'Valid Skip', 'Unchecked', 'Unchecked', 'Unchecked', 'Valid Skip', 'Unchecked', 'Unchecked', 'Unchecked', 'Unchecked', 'Unchecked', 'Unchecked', 'Unchecked', 'Unchecked', 'Unchecked', 'Unchecked', 'Valid Skip', 'Unchecked', 'Unchecked', 'Unchecked', 'Valid Skip', 'Unchecked', 'Valid Skip', 'Valid Skip', 'Unchecked', 'Unchecked', 'Unchecked', 'Unchecked', 'Unchecked', 'Unchecked', 'Valid Skip', 'Unchecked', 'Unchecked', 'Unchecked', 'Unchecked', 'Valid Skip', 'Valid Skip', 'Valid Skip', 'Valid Skip', 'Valid Skip', 'Valid Skip', 'Checked', 'Unchecked', 'Valid Skip', 'Valid Skip', 'Valid Skip', 'Valid Skip', 'Valid Skip', 'Valid Skip', 'Unchecked', 'Unchecked', 'Unchecked', 'Unchecked', 'Unchecked', 'Unchecked', 'Unchecked', 'Unchecked', 'Unchecked', 'Unchecked', 'Unchecked', 'Unchecked', 'Unchecked', 'Unchecked', 'Valid Skip', 'Valid Skip', 'Unchecked', 'Unchecked', 'Valid Skip', 'Unchecked', 'Valid Skip', 'Valid Skip', 'Unchecked', 'Valid Skip', 'Unchecked', 'Unchecked', 'Unchecked', 'Valid Skip', nan, 'Unchecked', 'Unchecked', 'Unchecked', 'Unchecked', 'Unchecked', 'Valid Skip', 'Unchecked', 'Valid Skip', 'Valid Skip', 'Unchecked', 'Unchecked', 'Unchecked', 'Unchecked', 'Unchecked', 'Unchecked', 'Valid Skip', 'Unchecked', 'Valid Skip', 'Unchecked', 'Unchecked', 'Unchecked', 'Unchecked', 'Unchecked', 'Checked', 'Valid Skip', 'Unchecked', 'Unchecked', 'Unchecked', 'Unchecked', 'Unchecked', 'Unchecked', 'Valid Skip', 'Unchecked', 'Unchecked', 'Unchecked', 'Valid Skip', 'Valid Skip', 'Valid Skip', 'Unchecked', 'Unchecked', 'Valid Skip', 'Valid Skip', 'Valid Skip', 'Valid Skip', 'Unchecked', 'Unchecked', 'Unchecked', 'Unchecked', 'Unchecked', 'Unchecked', 'Unchecked', 'Valid Skip', 'Valid Skip', 'Valid Skip', 'Unchecked', 'Unchecked', 'Unchecked', 'Valid Skip', 'Unchecked', 'Unchecked', 'Valid Skip', 'Valid Skip', 'Valid Skip', nan, 'Unchecked', 'Valid Skip', 'Unchecked', 'Unchecked', 'Unchecked', 'Unchecked', 'Valid Skip', 'Valid Skip', 'Unchecked', 'Valid Skip', 'Valid Skip', 'Valid Skip', 'Unchecked', 'Valid Skip', 'Unchecked', 'Unchecked', 'Unchecked', 'Unchecked', 'Unchecked', 'Unchecked', 'Valid Skip', 'Checked', 'Unchecked', 'Unchecked', 'Unchecked', 'Unchecked', 'Unchecked', 'Unchecked', 'Unchecked', 'Unchecked', 'Unchecked', 'Valid Skip', 'Valid Skip', 'Valid Skip', 'Unchecked', 'Valid Skip', 'Valid Skip', 'Valid Skip', 'Valid Skip', 'Unchecked', 'Valid Skip', 'Unchecked', 'Unchecked', 'Unchecked', 'Valid Skip', 'Unchecked', 'Valid Skip', 'Valid Skip', 'Valid Skip', 'Checked', 'Valid Skip', 'Valid Skip', 'Checked', 'Checked', 'Unchecked', 'Unchecked', 'Valid Skip', 'Unchecked', 'Unchecked', 'Valid Skip', 'Valid Skip', 'Valid Skip', 'Unchecked', 'Valid Skip', 'Valid Skip', 'Valid Skip', 'Unchecked', 'Unchecked', 'Valid Skip', 'Unchecked', 'Unchecked', 'Unchecked', 'Valid Skip', 'Valid Skip', 'Valid Skip', 'Valid Skip', 'Unchecked', 'Valid Skip', 'Valid Skip', 'Valid Skip', 'Unchecked', 'Unchecked', 'Unchecked', 'Unchecked', 'Unchecked', 'Valid Skip', 'Unchecked', 'Unchecked', 'Valid Skip', 'Valid Skip', 'Valid Skip', 'Unchecked', 'Unchecked', 'Valid Skip', 'Unchecked', 'Valid Skip', 'Unchecked', 'Unchecked', 'Unchecked', 'Unchecked', 'Valid Skip', nan, 'Valid Skip', 'Unchecked', 'Unchecked', 'Unchecked', 'Unchecked', 'Valid Skip', 'Unchecked', 'Unchecked', 'Unchecked', 'Valid Skip', 'Valid Skip', 'Valid Skip', 'Valid Skip', 'Valid Skip', 'Unchecked', 'Unchecked', 'Unchecked', 'Unchecked', 'Valid Skip', 'Valid Skip', 'Unchecked', 'Unchecked', 'Unchecked', 'Unchecked', 'Valid Skip', 'Unchecked', 'Unchecked', 'Unchecked', 'Unchecked', 'Unchecked', 'Valid Skip', 'Unchecked', 'Unchecked', 'Valid Skip', 'Unchecked', 'Unchecked', 'Checked', 'Unchecked', 'Valid Skip', 'Valid Skip', 'Valid Skip', 'Valid Skip', 'Valid Skip', 'Valid Skip', 'Valid Skip', 'Valid Skip', 'Unchecked', 'Valid Skip', 'Valid Skip', 'Unchecked', 'Unchecked', 'Unchecked', 'Unchecked', 'Valid Skip', 'Valid Skip', 'Valid Skip', 'Unchecked', 'Valid Skip', 'Valid Skip', 'Unchecked', 'Unchecked', 'Unchecked', 'Unchecked', 'Unchecked', 'Valid Skip', nan, 'Unchecked', nan, 'Unchecked', 'Unchecked', 'Valid Skip', 'Valid Skip', 'Valid Skip', 'Valid Skip', 'Valid Skip', 'Unchecked', 'Unchecked', nan, 'Unchecked', 'Unchecked', 'Valid Skip', 'Valid Skip', 'Checked', 'Valid Skip', 'Unchecked', 'Unchecked', 'Unchecked', 'Unchecked', 'Unchecked', nan, 'Unchecked', 'Unchecked', 'Checked', 'Valid Skip', nan, 'Unchecked', 'Unchecked', 'Unchecked', 'Valid Skip', 'Valid Skip', nan, 'Unchecked', 'Valid Skip', 'Valid Skip', 'Unchecked', 'Valid Skip', 'Unchecked', 'Unchecked', 'Unchecked', 'Unchecked', 'Unchecked', 'Unchecked', 'Valid Skip', 'Valid Skip', 'Unchecked', 'Valid Skip', 'Valid Skip', 'Valid Skip', 'Unchecked', 'Unchecked', 'Unchecked', 'Valid Skip', 'Unchecked', 'Unchecked', 'Unchecked', 'Unchecked', 'Unchecked', nan, 'Unchecked', 'Unchecked', 'Valid Skip', 'Valid Skip', 'Valid Skip', 'Unchecked', 'Unchecked', 'Unchecked', 'Unchecked', 'Unchecked', 'Valid Skip', 'Valid Skip', 'Valid Skip', 'Checked', 'Valid Skip', 'Unchecked', 'Checked', 'Checked', 'Checked', 'Checked', 'Unchecked', 'Unchecked', 'Unchecked', 'Unchecked', 'Checked', 'Valid Skip', 'Unchecked', 'Unchecked', 'Unchecked', 'Unchecked', 'Valid Skip', 'Valid Skip', 'Valid Skip', 'Unchecked', 'Unchecked', 'Valid Skip', 'Unchecked', 'Unchecked', 'Valid Skip', 'Valid Skip', 'Unchecked', 'Unchecked', 'Unchecked', 'Valid Skip', 'Valid Skip', 'Unchecked', 'Valid Skip', 'Unchecked', 'Valid Skip', 'Valid Skip', 'Unchecked', 'Valid Skip', 'Unchecked', 'Valid Skip', 'Unchecked', 'Checked', 'Checked', 'Unchecked', 'Unchecked', 'Unchecked', 'Unchecked', 'Unchecked', 'Valid Skip', 'Unchecked', 'Valid Skip', 'Valid Skip', 'Unchecked', 'Unchecked', 'Valid Skip', 'Unchecked', 'Valid Skip', 'Unchecked', 'Valid Skip', 'Unchecked', 'Valid Skip', 'Unchecked', 'Unchecked', 'Unchecked', 'Valid Skip', 'Valid Skip', 'Valid Skip', 'Valid Skip', 'Valid Skip', 'Unchecked', 'Unchecked', 'Unchecked', 'Unchecked', 'Unchecked', 'Unchecked', 'Unchecked', 'Unchecked', 'Valid Skip', 'Unchecked', 'Valid Skip', 'Valid Skip', 'Unchecked', 'Unchecked', 'Unchecked', 'Unchecked', 'Valid Skip', 'Unchecked', 'Checked', 'Unchecked', 'Unchecked', 'Unchecked', 'Unchecked', 'Unchecked', 'Unchecked', 'Unchecked', 'Unchecked', 'Unchecked', 'Unchecked', 'Unchecked', 'Valid Skip', 'Unchecked', 'Unchecked', 'Unchecked', 'Unchecked', 'Unchecked', 'Unchecked', 'Valid Skip', 'Unchecked', 'Unchecked', 'Valid Skip', 'Valid Skip', 'Unchecked', 'Unchecked', 'Unchecked', 'Unchecked', 'Unchecked', 'Unchecked', 'Unchecked', 'Unchecked', 'Valid Skip', 'Unchecked', 'Unchecked', 'Valid Skip', 'Valid Skip', 'Valid Skip', 'Valid Skip', 'Valid Skip', 'Valid Skip', 'Unchecked', 'Valid Skip', 'Valid Skip', 'Unchecked', 'Unchecked', 'Unchecked', 'Valid Skip', 'Unchecked', 'Valid Skip', 'Valid Skip', 'Valid Skip', 'Unchecked', 'Valid Skip', 'Valid Skip', 'Valid Skip', 'Valid Skip', 'Valid Skip', 'Unchecked', 'Unchecked', 'Unchecked', 'Unchecked', 'Unchecked', 'Valid Skip', 'Valid Skip', 'Valid Skip', 'Unchecked', 'Unchecked', 'Valid Skip', 'Unchecked', 'Unchecked', 'Unchecked', 'Valid Skip', 'Valid Skip', 'Unchecked', 'Valid Skip', 'Unchecked', 'Valid Skip', 'Unchecked', 'Valid Skip', 'Unchecked', 'Unchecked', 'Unchecked', 'Valid Skip', 'Valid Skip', 'Unchecked', 'Valid Skip', 'Unchecked', 'Valid Skip', 'Valid Skip', 'Unchecked', 'Valid Skip', 'Unchecked', 'Unchecked', 'Unchecked', 'Unchecked', 'Unchecked', 'Unchecked', 'Unchecked', 'Valid Skip', nan, 'Valid Skip', 'Valid Skip', 'Valid Skip', 'Valid Skip', 'Unchecked', 'Unchecked', 'Unchecked', 'Unchecked', 'Valid Skip', 'Valid Skip', 'Valid Skip', 'Valid Skip', 'Valid Skip', 'Valid Skip', 'Valid Skip', 'Unchecked', 'Checked', 'Unchecked', 'Unchecked', 'Valid Skip', 'Valid Skip', 'Valid Skip', 'Valid Skip', 'Valid Skip', 'Unchecked', 'Unchecked', 'Unchecked', 'Unchecked', 'Unchecked', 'Unchecked', 'Unchecked', 'Unchecked', 'Unchecked', 'Unchecked', 'Valid Skip', 'Unchecked', 'Unchecked', 'Unchecked', 'Unchecked', 'Unchecked', 'Valid Skip', 'Unchecked', 'Valid Skip', 'Valid Skip', 'Unchecked', 'Valid Skip', 'Unchecked', 'Valid Skip', 'Valid Skip', 'Valid Skip', 'Valid Skip', 'Unchecked', 'Unchecked', 'Unchecked', 'Unchecked', 'Unchecked', 'Unchecked', 'Unchecked', 'Valid Skip', nan, 'Valid Skip', 'Unchecked', 'Unchecked', 'Unchecked', 'Valid Skip', 'Valid Skip', 'Unchecked', 'Valid Skip', 'Unchecked', 'Unchecked', 'Unchecked', 'Unchecked', 'Valid Skip', 'Valid Skip', 'Valid Skip', 'Unchecked', 'Unchecked', 'Valid Skip', 'Valid Skip', 'Unchecked', 'Valid Skip', 'Valid Skip', 'Valid Skip', 'Unchecked', 'Unchecked', 'Unchecked', 'Unchecked', 'Valid Skip', 'Valid Skip', 'Valid Skip', 'Unchecked', 'Valid Skip', 'Valid Skip', 'Valid Skip', 'Valid Skip', 'Checked', 'Unchecked', 'Valid Skip', 'Unchecked', 'Valid Skip', 'Valid Skip', 'Unchecked', 'Valid Skip', 'Unchecked', 'Unchecked', 'Valid Skip', 'Valid Skip', 'Unchecked', 'Valid Skip', 'Valid Skip', 'Unchecked', 'Valid Skip', 'Valid Skip', 'Unchecked', 'Valid Skip', 'Unchecked', 'Valid Skip', 'Valid Skip', 'Valid Skip', 'Valid Skip', 'Valid Skip', 'Unchecked', 'Unchecked', 'Unchecked', 'Valid Skip', 'Unchecked', 'Unchecked', 'Valid Skip', 'Unchecked', 'Unchecked', nan, 'Valid Skip', 'Unchecked', 'Unchecked', 'Unchecked', 'Unchecked', 'Valid Skip', 'Unchecked', 'Valid Skip', 'Valid Skip', 'Unchecked', 'Unchecked', 'Valid Skip', 'Unchecked', 'Valid Skip', 'Unchecked', 'Valid Skip', 'Unchecked', 'Valid Skip', 'Unchecked', 'Unchecked', 'Unchecked', 'Unchecked', 'Valid Skip', 'Unchecked', 'Valid Skip', 'Unchecked', 'Valid Skip', 'Unchecked', 'Unchecked', 'Valid Skip', 'Unchecked', 'Valid Skip', 'Unchecked', 'Unchecked', 'Valid Skip', 'Unchecked', 'Unchecked', nan, nan, 'Unchecked', 'Unchecked', 'Unchecked', 'Unchecked', 'Valid Skip', 'Unchecked', 'Unchecked', 'Unchecked', 'Valid Skip']\n"
     ]
    }
   ],
   "source": [
    "Minor_Comp_Phy_YN = []\n",
    "for row in data.values[:,3]:\n",
    "    Minor_Comp_Phy_YN.append(row)"
   ]
  },
  {
   "cell_type": "code",
   "execution_count": 17,
   "metadata": {
    "collapsed": false
   },
   "outputs": [
    {
     "name": "stdout",
     "output_type": "stream",
     "text": [
      "29\n",
      "0.023887973640856673\n"
     ]
    }
   ],
   "source": [
    "Minor_Comp_Phy_Y = Minor_Comp_Phy_YN.count(\"Checked\") #The Number of Respondents who answered that their institution offers a minor in Computational Physics\n",
    "print(Minor_Comp_Phy_Y)\n",
    "print(Minor_Comp_Phy_Y/(Minor_Comp_Phy_Y+Minor_Comp_Phy_YN.count(\"Unchecked\")+Minor_Comp_Phy_YN.count(\"Valid Skip\")))"
   ]
  },
  {
   "cell_type": "code",
   "execution_count": 20,
   "metadata": {
    "collapsed": false
   },
   "outputs": [
    {
     "name": "stdout",
     "output_type": "stream",
     "text": [
      "15\n",
      "0.012355848434925865\n"
     ]
    }
   ],
   "source": [
    "Cert_Comp_Phy_YN = []\n",
    "for row in data.values[:,4]:\n",
    "    Cert_Comp_Phy_YN.append(row)\n",
    "Cert_Comp_Phy_Y = Cert_Comp_Phy_YN.count(\"Checked\") #Number of respondents who answered that their institution offers a certificate in Computational Physics\n",
    "print(Cert_Comp_Phy_Y)\n",
    "print(Cert_Comp_Phy_Y/(Cert_Comp_Phy_Y+Cert_Comp_Phy_YN.count(\"Unchecked\")+Cert_Comp_Phy_YN.count(\"Valid Skip\")))"
   ]
  },
  {
   "cell_type": "code",
   "execution_count": 21,
   "metadata": {
    "collapsed": false
   },
   "outputs": [
    {
     "name": "stdout",
     "output_type": "stream",
     "text": [
      "82\n",
      "0.06754530477759473\n"
     ]
    }
   ],
   "source": [
    "Other_Comp_Phy_YN = []\n",
    "for row in data.values[:,5]:\n",
    "    Other_Comp_Phy_YN.append(row)\n",
    "Other_Comp_Phy_Y = Other_Comp_Phy_YN.count(\"Checked\") #Number of respondents who answered that their institution offers some other program in Computational Physics\n",
    "print(Other_Comp_Phy_Y)\n",
    "print(Other_Comp_Phy_Y/(Other_Comp_Phy_Y+Other_Comp_Phy_YN.count(\"Unchecked\")+Other_Comp_Phy_YN.count(\"Valid Skip\")))"
   ]
  },
  {
   "cell_type": "code",
   "execution_count": 37,
   "metadata": {
    "collapsed": false
   },
   "outputs": [
    {
     "name": "stdout",
     "output_type": "stream",
     "text": [
      "532\n",
      "0.4382207578253707\n"
     ]
    }
   ],
   "source": [
    "None_Above_Prog = []\n",
    "for row in data.values[:,6]:\n",
    "    None_Above_Prog.append(row)\n",
    "None_Above_Prog_Y = None_Above_Prog.count(\"Checked\") #Number of respondents who answered that their institution offers none of the above programs in Computational Physics\n",
    "print(None_Above_Prog_Y)\n",
    "print(None_Above_Prog_Y/(None_Above_Prog_Y+None_Above_Prog.count(\"Unchecked\")+None_Above_Prog.count(\"Valid Skip\")))"
   ]
  },
  {
   "cell_type": "code",
   "execution_count": 36,
   "metadata": {
    "collapsed": false
   },
   "outputs": [
    {
     "name": "stdout",
     "output_type": "stream",
     "text": [
      "On the first question there were 32 non-responses\n",
      "The Response Rate was 0.9743178170144462\n"
     ]
    }
   ],
   "source": [
    "Non_Response_Prog = 1246-None_Above_Prog_Y-None_Above_Prog.count(\"Unchecked\")-None_Above_Prog.count(\"Valid Skip\")\n",
    "Response_Rate_Prog = 1-Non_Response_Prog/(Non_Response_Prog+None_Above_Prog_Y+None_Above_Prog.count(\"Unchecked\")+None_Above_Prog.count(\"Valid Skip\"))\n",
    "print('On the first question there were',Non_Response_Prog,'non-responses.')\n",
    "print('The Response Rate was',Response_Rate_Prog)"
   ]
  },
  {
   "cell_type": "code",
   "execution_count": 45,
   "metadata": {
    "collapsed": false
   },
   "outputs": [
    {
     "ename": "ValueError",
     "evalue": "setting an array element with a sequence",
     "output_type": "error",
     "traceback": [
      "\u001b[0;31m---------------------------------------------------------------------------\u001b[0m",
      "\u001b[0;31mValueError\u001b[0m                                Traceback (most recent call last)",
      "\u001b[0;32m<ipython-input-45-d03c92b91e6e>\u001b[0m in \u001b[0;36m<module>\u001b[0;34m()\u001b[0m\n\u001b[1;32m      2\u001b[0m \u001b[0mtest\u001b[0m \u001b[1;33m=\u001b[0m \u001b[1;33m[\u001b[0m\u001b[1;36m1\u001b[0m\u001b[1;33m,\u001b[0m\u001b[1;36m2\u001b[0m\u001b[1;33m,\u001b[0m\u001b[1;36m3\u001b[0m\u001b[1;33m,\u001b[0m\u001b[1;36m4\u001b[0m\u001b[1;33m,\u001b[0m\u001b[1;36m5\u001b[0m\u001b[1;33m]\u001b[0m\u001b[1;33m\u001b[0m\u001b[0m\n\u001b[1;32m      3\u001b[0m \u001b[0mProg_Ans_Dist\u001b[0m \u001b[1;33m=\u001b[0m \u001b[1;33m[\u001b[0m\u001b[0mDeg_Comp_Phy_Y\u001b[0m\u001b[1;33m,\u001b[0m \u001b[0mMinor_Comp_Phy_Y\u001b[0m\u001b[1;33m,\u001b[0m \u001b[0mCert_Comp_Phy_Y\u001b[0m\u001b[1;33m,\u001b[0m \u001b[0mOther_Comp_Phy_Y\u001b[0m\u001b[1;33m,\u001b[0m \u001b[0mNone_Above_Prog\u001b[0m\u001b[1;33m]\u001b[0m\u001b[1;33m\u001b[0m\u001b[0m\n\u001b[0;32m----> 4\u001b[0;31m \u001b[0mplt\u001b[0m\u001b[1;33m.\u001b[0m\u001b[0mplot\u001b[0m\u001b[1;33m(\u001b[0m\u001b[0mtest\u001b[0m\u001b[1;33m,\u001b[0m\u001b[0mProg_Ans_Dist\u001b[0m\u001b[1;33m)\u001b[0m\u001b[1;33m\u001b[0m\u001b[0m\n\u001b[0m",
      "\u001b[0;32mC:\\Users\\Grant\\Anaconda3\\lib\\site-packages\\matplotlib\\pyplot.py\u001b[0m in \u001b[0;36mplot\u001b[0;34m(*args, **kwargs)\u001b[0m\n\u001b[1;32m   3159\u001b[0m         \u001b[0max\u001b[0m\u001b[1;33m.\u001b[0m\u001b[0mhold\u001b[0m\u001b[1;33m(\u001b[0m\u001b[0mhold\u001b[0m\u001b[1;33m)\u001b[0m\u001b[1;33m\u001b[0m\u001b[0m\n\u001b[1;32m   3160\u001b[0m     \u001b[1;32mtry\u001b[0m\u001b[1;33m:\u001b[0m\u001b[1;33m\u001b[0m\u001b[0m\n\u001b[0;32m-> 3161\u001b[0;31m         \u001b[0mret\u001b[0m \u001b[1;33m=\u001b[0m \u001b[0max\u001b[0m\u001b[1;33m.\u001b[0m\u001b[0mplot\u001b[0m\u001b[1;33m(\u001b[0m\u001b[1;33m*\u001b[0m\u001b[0margs\u001b[0m\u001b[1;33m,\u001b[0m \u001b[1;33m**\u001b[0m\u001b[0mkwargs\u001b[0m\u001b[1;33m)\u001b[0m\u001b[1;33m\u001b[0m\u001b[0m\n\u001b[0m\u001b[1;32m   3162\u001b[0m     \u001b[1;32mfinally\u001b[0m\u001b[1;33m:\u001b[0m\u001b[1;33m\u001b[0m\u001b[0m\n\u001b[1;32m   3163\u001b[0m         \u001b[0max\u001b[0m\u001b[1;33m.\u001b[0m\u001b[0mhold\u001b[0m\u001b[1;33m(\u001b[0m\u001b[0mwashold\u001b[0m\u001b[1;33m)\u001b[0m\u001b[1;33m\u001b[0m\u001b[0m\n",
      "\u001b[0;32mC:\\Users\\Grant\\Anaconda3\\lib\\site-packages\\matplotlib\\__init__.py\u001b[0m in \u001b[0;36minner\u001b[0;34m(ax, *args, **kwargs)\u001b[0m\n\u001b[1;32m   1816\u001b[0m                     warnings.warn(msg % (label_namer, func.__name__),\n\u001b[1;32m   1817\u001b[0m                                   RuntimeWarning, stacklevel=2)\n\u001b[0;32m-> 1818\u001b[0;31m             \u001b[1;32mreturn\u001b[0m \u001b[0mfunc\u001b[0m\u001b[1;33m(\u001b[0m\u001b[0max\u001b[0m\u001b[1;33m,\u001b[0m \u001b[1;33m*\u001b[0m\u001b[0margs\u001b[0m\u001b[1;33m,\u001b[0m \u001b[1;33m**\u001b[0m\u001b[0mkwargs\u001b[0m\u001b[1;33m)\u001b[0m\u001b[1;33m\u001b[0m\u001b[0m\n\u001b[0m\u001b[1;32m   1819\u001b[0m         \u001b[0mpre_doc\u001b[0m \u001b[1;33m=\u001b[0m \u001b[0minner\u001b[0m\u001b[1;33m.\u001b[0m\u001b[0m__doc__\u001b[0m\u001b[1;33m\u001b[0m\u001b[0m\n\u001b[1;32m   1820\u001b[0m         \u001b[1;32mif\u001b[0m \u001b[0mpre_doc\u001b[0m \u001b[1;32mis\u001b[0m \u001b[1;32mNone\u001b[0m\u001b[1;33m:\u001b[0m\u001b[1;33m\u001b[0m\u001b[0m\n",
      "\u001b[0;32mC:\\Users\\Grant\\Anaconda3\\lib\\site-packages\\matplotlib\\axes\\_axes.py\u001b[0m in \u001b[0;36mplot\u001b[0;34m(self, *args, **kwargs)\u001b[0m\n\u001b[1;32m   1380\u001b[0m         \u001b[0mkwargs\u001b[0m \u001b[1;33m=\u001b[0m \u001b[0mcbook\u001b[0m\u001b[1;33m.\u001b[0m\u001b[0mnormalize_kwargs\u001b[0m\u001b[1;33m(\u001b[0m\u001b[0mkwargs\u001b[0m\u001b[1;33m,\u001b[0m \u001b[0m_alias_map\u001b[0m\u001b[1;33m)\u001b[0m\u001b[1;33m\u001b[0m\u001b[0m\n\u001b[1;32m   1381\u001b[0m \u001b[1;33m\u001b[0m\u001b[0m\n\u001b[0;32m-> 1382\u001b[0;31m         \u001b[1;32mfor\u001b[0m \u001b[0mline\u001b[0m \u001b[1;32min\u001b[0m \u001b[0mself\u001b[0m\u001b[1;33m.\u001b[0m\u001b[0m_get_lines\u001b[0m\u001b[1;33m(\u001b[0m\u001b[1;33m*\u001b[0m\u001b[0margs\u001b[0m\u001b[1;33m,\u001b[0m \u001b[1;33m**\u001b[0m\u001b[0mkwargs\u001b[0m\u001b[1;33m)\u001b[0m\u001b[1;33m:\u001b[0m\u001b[1;33m\u001b[0m\u001b[0m\n\u001b[0m\u001b[1;32m   1383\u001b[0m             \u001b[0mself\u001b[0m\u001b[1;33m.\u001b[0m\u001b[0madd_line\u001b[0m\u001b[1;33m(\u001b[0m\u001b[0mline\u001b[0m\u001b[1;33m)\u001b[0m\u001b[1;33m\u001b[0m\u001b[0m\n\u001b[1;32m   1384\u001b[0m             \u001b[0mlines\u001b[0m\u001b[1;33m.\u001b[0m\u001b[0mappend\u001b[0m\u001b[1;33m(\u001b[0m\u001b[0mline\u001b[0m\u001b[1;33m)\u001b[0m\u001b[1;33m\u001b[0m\u001b[0m\n",
      "\u001b[0;32mC:\\Users\\Grant\\Anaconda3\\lib\\site-packages\\matplotlib\\axes\\_base.py\u001b[0m in \u001b[0;36m_grab_next_args\u001b[0;34m(self, *args, **kwargs)\u001b[0m\n\u001b[1;32m    379\u001b[0m                 \u001b[1;32mreturn\u001b[0m\u001b[1;33m\u001b[0m\u001b[0m\n\u001b[1;32m    380\u001b[0m             \u001b[1;32mif\u001b[0m \u001b[0mlen\u001b[0m\u001b[1;33m(\u001b[0m\u001b[0mremaining\u001b[0m\u001b[1;33m)\u001b[0m \u001b[1;33m<=\u001b[0m \u001b[1;36m3\u001b[0m\u001b[1;33m:\u001b[0m\u001b[1;33m\u001b[0m\u001b[0m\n\u001b[0;32m--> 381\u001b[0;31m                 \u001b[1;32mfor\u001b[0m \u001b[0mseg\u001b[0m \u001b[1;32min\u001b[0m \u001b[0mself\u001b[0m\u001b[1;33m.\u001b[0m\u001b[0m_plot_args\u001b[0m\u001b[1;33m(\u001b[0m\u001b[0mremaining\u001b[0m\u001b[1;33m,\u001b[0m \u001b[0mkwargs\u001b[0m\u001b[1;33m)\u001b[0m\u001b[1;33m:\u001b[0m\u001b[1;33m\u001b[0m\u001b[0m\n\u001b[0m\u001b[1;32m    382\u001b[0m                     \u001b[1;32myield\u001b[0m \u001b[0mseg\u001b[0m\u001b[1;33m\u001b[0m\u001b[0m\n\u001b[1;32m    383\u001b[0m                 \u001b[1;32mreturn\u001b[0m\u001b[1;33m\u001b[0m\u001b[0m\n",
      "\u001b[0;32mC:\\Users\\Grant\\Anaconda3\\lib\\site-packages\\matplotlib\\axes\\_base.py\u001b[0m in \u001b[0;36m_plot_args\u001b[0;34m(self, tup, kwargs)\u001b[0m\n\u001b[1;32m    353\u001b[0m         \u001b[1;32mif\u001b[0m \u001b[0mlen\u001b[0m\u001b[1;33m(\u001b[0m\u001b[0mtup\u001b[0m\u001b[1;33m)\u001b[0m \u001b[1;33m==\u001b[0m \u001b[1;36m2\u001b[0m\u001b[1;33m:\u001b[0m\u001b[1;33m\u001b[0m\u001b[0m\n\u001b[1;32m    354\u001b[0m             \u001b[0mx\u001b[0m \u001b[1;33m=\u001b[0m \u001b[0m_check_1d\u001b[0m\u001b[1;33m(\u001b[0m\u001b[0mtup\u001b[0m\u001b[1;33m[\u001b[0m\u001b[1;36m0\u001b[0m\u001b[1;33m]\u001b[0m\u001b[1;33m)\u001b[0m\u001b[1;33m\u001b[0m\u001b[0m\n\u001b[0;32m--> 355\u001b[0;31m             \u001b[0my\u001b[0m \u001b[1;33m=\u001b[0m \u001b[0m_check_1d\u001b[0m\u001b[1;33m(\u001b[0m\u001b[0mtup\u001b[0m\u001b[1;33m[\u001b[0m\u001b[1;33m-\u001b[0m\u001b[1;36m1\u001b[0m\u001b[1;33m]\u001b[0m\u001b[1;33m)\u001b[0m\u001b[1;33m\u001b[0m\u001b[0m\n\u001b[0m\u001b[1;32m    356\u001b[0m         \u001b[1;32melse\u001b[0m\u001b[1;33m:\u001b[0m\u001b[1;33m\u001b[0m\u001b[0m\n\u001b[1;32m    357\u001b[0m             \u001b[0mx\u001b[0m\u001b[1;33m,\u001b[0m \u001b[0my\u001b[0m \u001b[1;33m=\u001b[0m \u001b[0mindex_of\u001b[0m\u001b[1;33m(\u001b[0m\u001b[0mtup\u001b[0m\u001b[1;33m[\u001b[0m\u001b[1;33m-\u001b[0m\u001b[1;36m1\u001b[0m\u001b[1;33m]\u001b[0m\u001b[1;33m)\u001b[0m\u001b[1;33m\u001b[0m\u001b[0m\n",
      "\u001b[0;32mC:\\Users\\Grant\\Anaconda3\\lib\\site-packages\\matplotlib\\cbook.py\u001b[0m in \u001b[0;36m_check_1d\u001b[0;34m(x)\u001b[0m\n\u001b[1;32m   2223\u001b[0m     '''\n\u001b[1;32m   2224\u001b[0m     \u001b[1;32mif\u001b[0m \u001b[1;32mnot\u001b[0m \u001b[0mhasattr\u001b[0m\u001b[1;33m(\u001b[0m\u001b[0mx\u001b[0m\u001b[1;33m,\u001b[0m \u001b[1;34m'shape'\u001b[0m\u001b[1;33m)\u001b[0m \u001b[1;32mor\u001b[0m \u001b[0mlen\u001b[0m\u001b[1;33m(\u001b[0m\u001b[0mx\u001b[0m\u001b[1;33m.\u001b[0m\u001b[0mshape\u001b[0m\u001b[1;33m)\u001b[0m \u001b[1;33m<\u001b[0m \u001b[1;36m1\u001b[0m\u001b[1;33m:\u001b[0m\u001b[1;33m\u001b[0m\u001b[0m\n\u001b[0;32m-> 2225\u001b[0;31m         \u001b[1;32mreturn\u001b[0m \u001b[0mnp\u001b[0m\u001b[1;33m.\u001b[0m\u001b[0matleast_1d\u001b[0m\u001b[1;33m(\u001b[0m\u001b[0mx\u001b[0m\u001b[1;33m)\u001b[0m\u001b[1;33m\u001b[0m\u001b[0m\n\u001b[0m\u001b[1;32m   2226\u001b[0m     \u001b[1;32melse\u001b[0m\u001b[1;33m:\u001b[0m\u001b[1;33m\u001b[0m\u001b[0m\n\u001b[1;32m   2227\u001b[0m         \u001b[1;32mtry\u001b[0m\u001b[1;33m:\u001b[0m\u001b[1;33m\u001b[0m\u001b[0m\n",
      "\u001b[0;32mC:\\Users\\Grant\\Anaconda3\\lib\\site-packages\\numpy\\core\\shape_base.py\u001b[0m in \u001b[0;36matleast_1d\u001b[0;34m(*arys)\u001b[0m\n\u001b[1;32m     48\u001b[0m     \u001b[0mres\u001b[0m \u001b[1;33m=\u001b[0m \u001b[1;33m[\u001b[0m\u001b[1;33m]\u001b[0m\u001b[1;33m\u001b[0m\u001b[0m\n\u001b[1;32m     49\u001b[0m     \u001b[1;32mfor\u001b[0m \u001b[0mary\u001b[0m \u001b[1;32min\u001b[0m \u001b[0marys\u001b[0m\u001b[1;33m:\u001b[0m\u001b[1;33m\u001b[0m\u001b[0m\n\u001b[0;32m---> 50\u001b[0;31m         \u001b[0mary\u001b[0m \u001b[1;33m=\u001b[0m \u001b[0masanyarray\u001b[0m\u001b[1;33m(\u001b[0m\u001b[0mary\u001b[0m\u001b[1;33m)\u001b[0m\u001b[1;33m\u001b[0m\u001b[0m\n\u001b[0m\u001b[1;32m     51\u001b[0m         \u001b[1;32mif\u001b[0m \u001b[0mlen\u001b[0m\u001b[1;33m(\u001b[0m\u001b[0mary\u001b[0m\u001b[1;33m.\u001b[0m\u001b[0mshape\u001b[0m\u001b[1;33m)\u001b[0m \u001b[1;33m==\u001b[0m \u001b[1;36m0\u001b[0m\u001b[1;33m:\u001b[0m\u001b[1;33m\u001b[0m\u001b[0m\n\u001b[1;32m     52\u001b[0m             \u001b[0mresult\u001b[0m \u001b[1;33m=\u001b[0m \u001b[0mary\u001b[0m\u001b[1;33m.\u001b[0m\u001b[0mreshape\u001b[0m\u001b[1;33m(\u001b[0m\u001b[1;36m1\u001b[0m\u001b[1;33m)\u001b[0m\u001b[1;33m\u001b[0m\u001b[0m\n",
      "\u001b[0;32mC:\\Users\\Grant\\Anaconda3\\lib\\site-packages\\numpy\\core\\numeric.py\u001b[0m in \u001b[0;36masanyarray\u001b[0;34m(a, dtype, order)\u001b[0m\n\u001b[1;32m    531\u001b[0m \u001b[1;33m\u001b[0m\u001b[0m\n\u001b[1;32m    532\u001b[0m     \"\"\"\n\u001b[0;32m--> 533\u001b[0;31m     \u001b[1;32mreturn\u001b[0m \u001b[0marray\u001b[0m\u001b[1;33m(\u001b[0m\u001b[0ma\u001b[0m\u001b[1;33m,\u001b[0m \u001b[0mdtype\u001b[0m\u001b[1;33m,\u001b[0m \u001b[0mcopy\u001b[0m\u001b[1;33m=\u001b[0m\u001b[1;32mFalse\u001b[0m\u001b[1;33m,\u001b[0m \u001b[0morder\u001b[0m\u001b[1;33m=\u001b[0m\u001b[0morder\u001b[0m\u001b[1;33m,\u001b[0m \u001b[0msubok\u001b[0m\u001b[1;33m=\u001b[0m\u001b[1;32mTrue\u001b[0m\u001b[1;33m)\u001b[0m\u001b[1;33m\u001b[0m\u001b[0m\n\u001b[0m\u001b[1;32m    534\u001b[0m \u001b[1;33m\u001b[0m\u001b[0m\n\u001b[1;32m    535\u001b[0m \u001b[1;32mdef\u001b[0m \u001b[0mascontiguousarray\u001b[0m\u001b[1;33m(\u001b[0m\u001b[0ma\u001b[0m\u001b[1;33m,\u001b[0m \u001b[0mdtype\u001b[0m\u001b[1;33m=\u001b[0m\u001b[1;32mNone\u001b[0m\u001b[1;33m)\u001b[0m\u001b[1;33m:\u001b[0m\u001b[1;33m\u001b[0m\u001b[0m\n",
      "\u001b[0;31mValueError\u001b[0m: setting an array element with a sequence"
     ]
    },
    {
     "data": {
      "image/png": "[encoded data removed]",
      "text/plain": [
       "<matplotlib.figure.Figure at 0x1cc20e58940>"
      ]
     },
     "metadata": {},
     "output_type": "display_data"
    }
   ],
   "source": [
    "Prog_Ans = ['Degree', 'Minor', 'Certificate', 'Other', 'None of the Above']\n",
    "test = [1,2,3,4,5]\n",
    "Prog_Ans_Dist = [Deg_Comp_Phy_Y, Minor_Comp_Phy_Y, Cert_Comp_Phy_Y, Other_Comp_Phy_Y, None_Above_Prog]"
   ]
  }
 ],
 "metadata": {
  "anaconda-cloud": {},
  "kernelspec": {
   "display_name": "Python 3",
   "language": "python",
   "name": "python3"
  },
  "language_info": {
   "codemirror_mode": {
    "name": "ipython",
    "version": 3
   },
   "file_extension": ".py",
   "mimetype": "text/x-python",
   "name": "python",
   "nbconvert_exporter": "python",
   "pygments_lexer": "ipython3",
   "version": "3.6.0"
  }
 },
 "nbformat": 4,
 "nbformat_minor": 1
}
